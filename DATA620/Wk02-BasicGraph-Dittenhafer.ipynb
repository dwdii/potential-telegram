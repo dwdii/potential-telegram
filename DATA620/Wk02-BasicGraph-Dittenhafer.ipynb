{
 "cells": [
  {
   "cell_type": "markdown",
   "metadata": {},
   "source": [
    "## hello, graph world\n",
    "\n",
    "DATA620\n",
    "\n",
    "Daniel Dittenhafer"
   ]
  },
  {
   "cell_type": "code",
   "execution_count": 5,
   "metadata": {
    "collapsed": false
   },
   "outputs": [],
   "source": [
    "# https://turi.com/products/create/docs/\n",
    "import graphlab as gl"
   ]
  },
  {
   "cell_type": "code",
   "execution_count": 24,
   "metadata": {
    "collapsed": false
   },
   "outputs": [],
   "source": [
    "gl.canvas.set_target('ipynb')\n",
    "#gl.canvas.show()"
   ]
  },
  {
   "cell_type": "code",
   "execution_count": 25,
   "metadata": {
    "collapsed": false
   },
   "outputs": [],
   "source": [
    "g = gl.SGraph()"
   ]
  },
  {
   "cell_type": "code",
   "execution_count": 32,
   "metadata": {
    "collapsed": false
   },
   "outputs": [],
   "source": [
    "g = g.add_edges([gl.Edge(\"Jane\", \"Ike\"), \n",
    "                 gl.Edge(\"Ike\", \"Heather\"), \n",
    "                 gl.Edge(\"Heather\", \"Fernando\"),\n",
    "                 gl.Edge(\"Heather\", \"Garth\"),\n",
    "                 gl.Edge(\"Garth\", \"Fernando\"),\n",
    "                 gl.Edge(\"Garth\", \"Diane\"),\n",
    "                 gl.Edge(\"Garth\", \"Beverly\"),\n",
    "                 gl.Edge(\"Garth\", \"Ed\"),\n",
    "                 gl.Edge(\"Fernando\", \"Diane\"),\n",
    "                 gl.Edge(\"Fernando\", \"Carol\"),\n",
    "                 gl.Edge(\"Fernando\", \"Andre\"),\n",
    "                 gl.Edge(\"Diane\", \"Carol\"),\n",
    "                 gl.Edge(\"Diane\", \"Ed\"),\n",
    "                 gl.Edge(\"Diane\", \"Beverly\"),\n",
    "                 gl.Edge(\"Diane\", \"Andre\"),\n",
    "                gl.Edge(\"Ed\", \"Beverly\"),\n",
    "                gl.Edge(\"Beverly\", \"Andre\"),\n",
    "                gl.Edge(\"Andre\", \"Carol\")])"
   ]
  },
  {
   "cell_type": "code",
   "execution_count": 35,
   "metadata": {
    "collapsed": false
   },
   "outputs": [
    {
     "data": {
      "application/javascript": [
       "$(\"head\").append($(\"<link/>\").attr({\n",
       "  rel:  \"stylesheet\",\n",
       "  type: \"text/css\",\n",
       "  href: \"//cdnjs.cloudflare.com/ajax/libs/font-awesome/4.1.0/css/font-awesome.min.css\"\n",
       "}));\n",
       "$(\"head\").append($(\"<link/>\").attr({\n",
       "  rel:  \"stylesheet\",\n",
       "  type: \"text/css\",\n",
       "  href: \"https://static.turi.com/products/graphlab-create/2.1/canvas/css/canvas.css\"\n",
       "}));\n",
       "\n",
       "            (function(){\n",
       "\n",
       "                var e = null;\n",
       "                if (typeof element == 'undefined') {\n",
       "                    var scripts = document.getElementsByTagName('script');\n",
       "                    var thisScriptTag = scripts[scripts.length-1];\n",
       "                    var parentDiv = thisScriptTag.parentNode;\n",
       "                    e = document.createElement('div');\n",
       "                    parentDiv.appendChild(e);\n",
       "                } else {\n",
       "                    e = element[0];\n",
       "                }\n",
       "\n",
       "                if (typeof requirejs !== 'undefined') {\n",
       "                    // disable load timeout; ipython_app.js is large and can take a while to load.\n",
       "                    requirejs.config({waitSeconds: 0});\n",
       "                }\n",
       "\n",
       "                require(['https://static.turi.com/products/graphlab-create/2.1/canvas/js/ipython_app.js'], function(IPythonApp){\n",
       "                    var app = new IPythonApp();\n",
       "                    app.attachView('sgraph','View', {\"edges_labels\": null, \"selected_variable\": {\"name\": [\"g\"], \"view_file\": \"sgraph\", \"view_component\": \"View\", \"view_params\": {\"elabel_hover\": false, \"vertex_positions\": null, \"h_offset\": 0.0, \"node_size\": 300, \"ecolor\": [0.37, 0.33, 0.33], \"elabel\": null, \"arrows\": false, \"ewidth\": 1, \"vlabel\": \"id\", \"highlight_color\": [0.69, 0.0, 0.498], \"vcolor\": [0.522, 0.741, 0.0], \"vlabel_hover\": false, \"highlight\": {}, \"v_offset\": 0.03}, \"view_components\": [\"View\"], \"type\": \"SGraph\", \"descriptives_links\": {\"edges\": \"edges\", \"vertices\": \"vertices\"}, \"descriptives\": {\"edges\": 37, \"vertices\": 10}}, \"positions\": null, \"error_type\": 0, \"vertices\": [\"Fernando\", \"Beverly\", \"Jane\", \"Diane\", \"Ed\", \"Garth\", \"Andre\", \"Carol\", \"Heather\", \"Ike\"], \"vertices_labels\": [\"Fernando\", \"Beverly\", \"Jane\", \"Diane\", \"Ed\", \"Garth\", \"Andre\", \"Carol\", \"Heather\", \"Ike\"], \"edges\": [[\"Fernando\", \"Diane\"], [\"Fernando\", \"Diane\"], [\"Fernando\", \"Andre\"], [\"Beverly\", \"Andre\"], [\"Fernando\", \"Carol\"], [\"Fernando\", \"Carol\"], [\"Diane\", \"Beverly\"], [\"Diane\", \"Beverly\"], [\"Ed\", \"Beverly\"], [\"Diane\", \"Ed\"], [\"Diane\", \"Ed\"], [\"Diane\", \"Andre\"], [\"Diane\", \"Andre\"], [\"Diane\", \"Carol\"], [\"Diane\", \"Carol\"], [\"Jane\", \"Ike\"], [\"Jane\", \"Ike\"], [\"Jane\", \"Ike\"], [\"Garth\", \"Fernando\"], [\"Garth\", \"Fernando\"], [\"Garth\", \"Beverly\"], [\"Garth\", \"Fernando\"], [\"Garth\", \"Beverly\"], [\"Garth\", \"Diane\"], [\"Garth\", \"Ed\"], [\"Garth\", \"Diane\"], [\"Garth\", \"Ed\"], [\"Andre\", \"Carol\"], [\"Heather\", \"Fernando\"], [\"Heather\", \"Fernando\"], [\"Heather\", \"Fernando\"], [\"Heather\", \"Garth\"], [\"Heather\", \"Garth\"], [\"Heather\", \"Garth\"], [\"Ike\", \"Heather\"], [\"Ike\", \"Heather\"], [\"Ike\", \"Heather\"]], \"ipython\": true, \"error_msg\": \"\"}, e);\n",
       "                });\n",
       "            })();\n",
       "        "
      ]
     },
     "metadata": {},
     "output_type": "display_data"
    }
   ],
   "source": [
    "g.show(vlabel='id', arrows=False)"
   ]
  },
  {
   "cell_type": "markdown",
   "metadata": {},
   "source": [
    "Output Image"
   ]
  },
  {
   "cell_type": "markdown",
   "metadata": {
    "collapsed": true
   },
   "source": [
    "![Graph](Wk02-HelloGraphWorld.png)"
   ]
  },
  {
   "cell_type": "code",
   "execution_count": null,
   "metadata": {
    "collapsed": true
   },
   "outputs": [],
   "source": []
  }
 ],
 "metadata": {
  "anaconda-cloud": {},
  "kernelspec": {
   "display_name": "Python [gl-env]",
   "language": "python",
   "name": "Python [gl-env]"
  },
  "language_info": {
   "codemirror_mode": {
    "name": "ipython",
    "version": 2
   },
   "file_extension": ".py",
   "mimetype": "text/x-python",
   "name": "python",
   "nbconvert_exporter": "python",
   "pygments_lexer": "ipython2",
   "version": "2.7.12"
  }
 },
 "nbformat": 4,
 "nbformat_minor": 0
}
